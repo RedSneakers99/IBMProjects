{
  "nbformat": 4,
  "nbformat_minor": 0,
  "metadata": {
    "colab": {
      "provenance": []
    },
    "kernelspec": {
      "name": "python3",
      "display_name": "Python 3"
    },
    "language_info": {
      "name": "python"
    }
  },
  "cells": [
    {
      "cell_type": "markdown",
      "source": [
        "# Data Science Tools and Ecosystem\n"
      ],
      "metadata": {
        "id": "hze7_D4QY0X8"
      }
    },
    {
      "cell_type": "markdown",
      "source": [
        "The following notebook will summarise various Data Science Tools and Ecosystem components."
      ],
      "metadata": {
        "id": "fC4cMa5YZq1_"
      }
    },
    {
      "cell_type": "markdown",
      "source": [
        "**Objectives:**\n",
        "- List of popular languages in Data Science\n",
        "- List of libraries used in Data Science\n",
        "- Evaluating arithmetic expressions in python\n",
        "- Coverting 200 minutes into hours in python\n"
      ],
      "metadata": {
        "id": "LkDYVRE9kSRd"
      }
    },
    {
      "cell_type": "markdown",
      "source": [
        "The following languages are some of the most used languages in the Data Science communty:\n",
        "1. Python\n",
        "2. SQL\n",
        "3. R\n",
        "4. Julia\n",
        "5. Scala\n",
        "6. Java\n",
        "7. JavaScript and\n",
        "8. Matlab"
      ],
      "metadata": {
        "id": "qwBMJUtielQA"
      }
    },
    {
      "cell_type": "markdown",
      "source": [
        "Some of the commonly used libraries used by Data Scientists include the fillowing:\n",
        "1. Pandas\n",
        "2. Numpy\n",
        "3. Scikit-learn\n",
        "4. Matplotlib\n",
        "5. Seaborn\n",
        "6. BeautifulSoup\n",
        "7. Plotly"
      ],
      "metadata": {
        "id": "5jB222amgQcf"
      }
    },
    {
      "cell_type": "markdown",
      "source": [
        "| Data Science Tools |\n",
        "| -------------------|\n",
        "| Jupyter Notebook |\n",
        "| KNIME |\n",
        "| Visual Studio Code |"
      ],
      "metadata": {
        "id": "EF7DnjKIhDNQ"
      }
    },
    {
      "cell_type": "markdown",
      "source": [
        "### Next we will be looking through how to evaluate arithmetic expressions on Python"
      ],
      "metadata": {
        "id": "9BH9CH5nh_dB"
      }
    },
    {
      "cell_type": "code",
      "source": [
        "# The following expression first multiplies two integers together then adds them\n",
        "\n",
        "(3*4)+5"
      ],
      "metadata": {
        "colab": {
          "base_uri": "https://localhost:8080/"
        },
        "id": "VG7mfjBHiTsC",
        "outputId": "2ca9e712-b3b9-47a1-f7db-cc4348723363"
      },
      "execution_count": 1,
      "outputs": [
        {
          "output_type": "execute_result",
          "data": {
            "text/plain": [
              "17"
            ]
          },
          "metadata": {},
          "execution_count": 1
        }
      ]
    },
    {
      "cell_type": "code",
      "source": [
        "# The following piece of code will convert 200 minutes into hours and display it to the screen\n",
        "\n",
        "minutes = 200\n",
        "hours = minutes/60\n",
        "print(f\"{minutes} minutes = {hours} hours\")"
      ],
      "metadata": {
        "colab": {
          "base_uri": "https://localhost:8080/"
        },
        "id": "1YTSvyotjXJv",
        "outputId": "3c5c4a04-ba7c-4b60-a26f-6cb45581049c"
      },
      "execution_count": 2,
      "outputs": [
        {
          "output_type": "stream",
          "name": "stdout",
          "text": [
            "200 minutes = 3.3333333333333335 hours\n"
          ]
        }
      ]
    },
    {
      "cell_type": "markdown",
      "source": [
        "## Author\n",
        "Mosa Mafalo"
      ],
      "metadata": {
        "id": "Wq3mXJHulUsP"
      }
    }
  ]
}